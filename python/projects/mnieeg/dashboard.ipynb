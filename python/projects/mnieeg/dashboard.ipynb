{
 "cells": [
  {
   "cell_type": "code",
   "execution_count": 17,
   "metadata": {},
   "outputs": [
    {
     "data": {
      "application/javascript": "(function(root) {\n  function now() {\n    return new Date();\n  }\n\n  var force = true;\n\n  if (typeof root._bokeh_onload_callbacks === \"undefined\" || force === true) {\n    root._bokeh_onload_callbacks = [];\n    root._bokeh_is_loading = undefined;\n  }\n\n  if (typeof (root._bokeh_timeout) === \"undefined\" || force === true) {\n    root._bokeh_timeout = Date.now() + 5000;\n    root._bokeh_failed_load = false;\n  }\n\n  function run_callbacks() {\n    try {\n      root._bokeh_onload_callbacks.forEach(function(callback) {\n        if (callback != null)\n          callback();\n      });\n    } finally {\n      delete root._bokeh_onload_callbacks\n    }\n    console.debug(\"Bokeh: all callbacks have finished\");\n  }\n\n  function load_libs(css_urls, js_urls, js_modules, callback) {\n    if (css_urls == null) css_urls = [];\n    if (js_urls == null) js_urls = [];\n    if (js_modules == null) js_modules = [];\n\n    root._bokeh_onload_callbacks.push(callback);\n    if (root._bokeh_is_loading > 0) {\n      console.debug(\"Bokeh: BokehJS is being loaded, scheduling callback at\", now());\n      return null;\n    }\n    if (js_urls.length === 0 && js_modules.length === 0) {\n      run_callbacks();\n      return null;\n    }\n    console.debug(\"Bokeh: BokehJS not loaded, scheduling load and callback at\", now());\n\n    function on_load() {\n      root._bokeh_is_loading--;\n      if (root._bokeh_is_loading === 0) {\n        console.debug(\"Bokeh: all BokehJS libraries/stylesheets loaded\");\n        run_callbacks()\n      }\n    }\n\n    function on_error() {\n      console.error(\"failed to load \" + url);\n    }\n\n    for (var i = 0; i < css_urls.length; i++) {\n      var url = css_urls[i];\n      const element = document.createElement(\"link\");\n      element.onload = on_load;\n      element.onerror = on_error;\n      element.rel = \"stylesheet\";\n      element.type = \"text/css\";\n      element.href = url;\n      console.debug(\"Bokeh: injecting link tag for BokehJS stylesheet: \", url);\n      document.body.appendChild(element);\n    }\n\n    var skip = [];\n    if (window.requirejs) {\n      window.requirejs.config({'packages': {}, 'paths': {'vtk': 'https://unpkg.com/vtk.js@20.0.1/vtk', 'gridstack': 'https://cdn.jsdelivr.net/npm/gridstack@4.2.5/dist/gridstack-h5', 'notyf': 'https://cdn.jsdelivr.net/npm/notyf@3/notyf.min'}, 'shim': {'vtk': {'exports': 'vtk'}, 'gridstack': {'exports': 'GridStack'}}});\n      require([\"vtk\"], function() {\n\ton_load()\n      })\n      require([\"gridstack\"], function(GridStack) {\n\twindow.GridStack = GridStack\n\ton_load()\n      })\n      require([\"notyf\"], function() {\n\ton_load()\n      })\n      root._bokeh_is_loading = css_urls.length + 3;\n    } else {\n      root._bokeh_is_loading = css_urls.length + js_urls.length + js_modules.length;\n    }    if (((window['vtk'] !== undefined) && (!(window['vtk'] instanceof HTMLElement))) || window.requirejs) {\n      var urls = ['https://unpkg.com/vtk.js@20.0.1/vtk.js'];\n      for (var i = 0; i < urls.length; i++) {\n        skip.push(urls[i])\n      }\n    }    if (((window['GridStack'] !== undefined) && (!(window['GridStack'] instanceof HTMLElement))) || window.requirejs) {\n      var urls = ['https://cdn.jsdelivr.net/npm/gridstack@4.2.5/dist/gridstack-h5.js'];\n      for (var i = 0; i < urls.length; i++) {\n        skip.push(urls[i])\n      }\n    }    if (((window['Notyf'] !== undefined) && (!(window['Notyf'] instanceof HTMLElement))) || window.requirejs) {\n      var urls = ['https://cdn.jsdelivr.net/npm/notyf@3/notyf.min.js'];\n      for (var i = 0; i < urls.length; i++) {\n        skip.push(urls[i])\n      }\n    }    for (var i = 0; i < js_urls.length; i++) {\n      var url = js_urls[i];\n      if (skip.indexOf(url) >= 0) {\n\tif (!window.requirejs) {\n\t  on_load();\n\t}\n\tcontinue;\n      }\n      var element = document.createElement('script');\n      element.onload = on_load;\n      element.onerror = on_error;\n      element.async = false;\n      element.src = url;\n      console.debug(\"Bokeh: injecting script tag for BokehJS library: \", url);\n      document.head.appendChild(element);\n    }\n    for (var i = 0; i < js_modules.length; i++) {\n      var url = js_modules[i];\n      if (skip.indexOf(url) >= 0) {\n\tif (!window.requirejs) {\n\t  on_load();\n\t}\n\tcontinue;\n      }\n      var element = document.createElement('script');\n      element.onload = on_load;\n      element.onerror = on_error;\n      element.async = false;\n      element.src = url;\n      element.type = \"module\";\n      console.debug(\"Bokeh: injecting script tag for BokehJS library: \", url);\n      document.head.appendChild(element);\n    }\n    if (!js_urls.length && !js_modules.length) {\n      on_load()\n    }\n  };\n\n  function inject_raw_css(css) {\n    const element = document.createElement(\"style\");\n    element.appendChild(document.createTextNode(css));\n    document.body.appendChild(element);\n  }\n\n  var js_urls = [\"https://unpkg.com/vtk.js@20.0.1/vtk.js\", \"https://cdn.bokeh.org/bokeh/release/bokeh-2.4.3.min.js\", \"https://cdn.bokeh.org/bokeh/release/bokeh-gl-2.4.3.min.js\", \"https://cdn.bokeh.org/bokeh/release/bokeh-widgets-2.4.3.min.js\", \"https://cdn.bokeh.org/bokeh/release/bokeh-tables-2.4.3.min.js\", \"https://cdn.bokeh.org/bokeh/release/bokeh-mathjax-2.4.3.min.js\", \"https://cdn.jsdelivr.net/npm/notyf@3/notyf.min.js\", \"https://unpkg.com/@holoviz/panel@0.13.1/dist/panel.min.js\"];\n  var js_modules = [];\n  var css_urls = [\"https://cdn.jsdelivr.net/npm/notyf@3/notyf.min.css\", \"https://cdnjs.cloudflare.com/ajax/libs/font-awesome/5.15.1/css/all.min.css\", \"https://unpkg.com/@holoviz/panel@0.13.1/dist/css/alerts.css\", \"https://unpkg.com/@holoviz/panel@0.13.1/dist/css/card.css\", \"https://unpkg.com/@holoviz/panel@0.13.1/dist/css/dataframe.css\", \"https://unpkg.com/@holoviz/panel@0.13.1/dist/css/debugger.css\", \"https://unpkg.com/@holoviz/panel@0.13.1/dist/css/json.css\", \"https://unpkg.com/@holoviz/panel@0.13.1/dist/css/loading.css\", \"https://unpkg.com/@holoviz/panel@0.13.1/dist/css/markdown.css\", \"https://unpkg.com/@holoviz/panel@0.13.1/dist/css/widgets.css\"];\n  var inline_js = [    function(Bokeh) {\n      inject_raw_css(\"\\n    .bk.pn-loading.arcs:before {\\n      background-image: url(\\\"data:image/svg+xml;base64,PHN2ZyB4bWxucz0iaHR0cDovL3d3dy53My5vcmcvMjAwMC9zdmciIHhtbG5zOnhsaW5rPSJodHRwOi8vd3d3LnczLm9yZy8xOTk5L3hsaW5rIiBzdHlsZT0ibWFyZ2luOiBhdXRvOyBiYWNrZ3JvdW5kOiBub25lOyBkaXNwbGF5OiBibG9jazsgc2hhcGUtcmVuZGVyaW5nOiBhdXRvOyIgdmlld0JveD0iMCAwIDEwMCAxMDAiIHByZXNlcnZlQXNwZWN0UmF0aW89InhNaWRZTWlkIj4gIDxjaXJjbGUgY3g9IjUwIiBjeT0iNTAiIHI9IjMyIiBzdHJva2Utd2lkdGg9IjgiIHN0cm9rZT0iI2MzYzNjMyIgc3Ryb2tlLWRhc2hhcnJheT0iNTAuMjY1NDgyNDU3NDM2NjkgNTAuMjY1NDgyNDU3NDM2NjkiIGZpbGw9Im5vbmUiIHN0cm9rZS1saW5lY2FwPSJyb3VuZCI+ICAgIDxhbmltYXRlVHJhbnNmb3JtIGF0dHJpYnV0ZU5hbWU9InRyYW5zZm9ybSIgdHlwZT0icm90YXRlIiByZXBlYXRDb3VudD0iaW5kZWZpbml0ZSIgZHVyPSIxcyIga2V5VGltZXM9IjA7MSIgdmFsdWVzPSIwIDUwIDUwOzM2MCA1MCA1MCI+PC9hbmltYXRlVHJhbnNmb3JtPiAgPC9jaXJjbGU+PC9zdmc+\\\");\\n      background-size: auto calc(min(50%, 400px));\\n    }\\n    \");\n    },    function(Bokeh) {\n      Bokeh.set_log_level(\"info\");\n    },\nfunction(Bokeh) {} // ensure no trailing comma for IE\n  ];\n\n  function run_inline_js() {\n    if ((root.Bokeh !== undefined) || (force === true)) {\n      for (var i = 0; i < inline_js.length; i++) {\n        inline_js[i].call(root, root.Bokeh);\n      }} else if (Date.now() < root._bokeh_timeout) {\n      setTimeout(run_inline_js, 100);\n    } else if (!root._bokeh_failed_load) {\n      console.log(\"Bokeh: BokehJS failed to load within specified timeout.\");\n      root._bokeh_failed_load = true;\n    }\n  }\n\n  if (root._bokeh_is_loading === 0) {\n    console.debug(\"Bokeh: BokehJS loaded, going straight to plotting\");\n    run_inline_js();\n  } else {\n    load_libs(css_urls, js_urls, js_modules, function() {\n      console.debug(\"Bokeh: BokehJS plotting callback run at\", now());\n      run_inline_js();\n    });\n  }\n}(window));",
      "application/vnd.holoviews_load.v0+json": ""
     },
     "metadata": {},
     "output_type": "display_data"
    },
    {
     "data": {
      "application/javascript": "\nif ((window.PyViz === undefined) || (window.PyViz instanceof HTMLElement)) {\n  window.PyViz = {comms: {}, comm_status:{}, kernels:{}, receivers: {}, plot_index: []}\n}\n\n\n    function JupyterCommManager() {\n    }\n\n    JupyterCommManager.prototype.register_target = function(plot_id, comm_id, msg_handler) {\n      if (window.comm_manager || ((window.Jupyter !== undefined) && (Jupyter.notebook.kernel != null))) {\n        var comm_manager = window.comm_manager || Jupyter.notebook.kernel.comm_manager;\n        comm_manager.register_target(comm_id, function(comm) {\n          comm.on_msg(msg_handler);\n        });\n      } else if ((plot_id in window.PyViz.kernels) && (window.PyViz.kernels[plot_id])) {\n        window.PyViz.kernels[plot_id].registerCommTarget(comm_id, function(comm) {\n          comm.onMsg = msg_handler;\n        });\n      } else if (typeof google != 'undefined' && google.colab.kernel != null) {\n        google.colab.kernel.comms.registerTarget(comm_id, (comm) => {\n          var messages = comm.messages[Symbol.asyncIterator]();\n          function processIteratorResult(result) {\n            var message = result.value;\n            console.log(message)\n            var content = {data: message.data, comm_id};\n            var buffers = []\n            for (var buffer of message.buffers || []) {\n              buffers.push(new DataView(buffer))\n            }\n            var metadata = message.metadata || {};\n            var msg = {content, buffers, metadata}\n            msg_handler(msg);\n            return messages.next().then(processIteratorResult);\n          }\n          return messages.next().then(processIteratorResult);\n        })\n      }\n    }\n\n    JupyterCommManager.prototype.get_client_comm = function(plot_id, comm_id, msg_handler) {\n      if (comm_id in window.PyViz.comms) {\n        return window.PyViz.comms[comm_id];\n      } else if (window.comm_manager || ((window.Jupyter !== undefined) && (Jupyter.notebook.kernel != null))) {\n        var comm_manager = window.comm_manager || Jupyter.notebook.kernel.comm_manager;\n        var comm = comm_manager.new_comm(comm_id, {}, {}, {}, comm_id);\n        if (msg_handler) {\n          comm.on_msg(msg_handler);\n        }\n      } else if ((plot_id in window.PyViz.kernels) && (window.PyViz.kernels[plot_id])) {\n        var comm = window.PyViz.kernels[plot_id].connectToComm(comm_id);\n        comm.open();\n        if (msg_handler) {\n          comm.onMsg = msg_handler;\n        }\n      } else if (typeof google != 'undefined' && google.colab.kernel != null) {\n        var comm_promise = google.colab.kernel.comms.open(comm_id)\n        comm_promise.then((comm) => {\n          window.PyViz.comms[comm_id] = comm;\n          if (msg_handler) {\n            var messages = comm.messages[Symbol.asyncIterator]();\n            function processIteratorResult(result) {\n              var message = result.value;\n              var content = {data: message.data};\n              var metadata = message.metadata || {comm_id};\n              var msg = {content, metadata}\n              msg_handler(msg);\n              return messages.next().then(processIteratorResult);\n            }\n            return messages.next().then(processIteratorResult);\n          }\n        }) \n        var sendClosure = (data, metadata, buffers, disposeOnDone) => {\n          return comm_promise.then((comm) => {\n            comm.send(data, metadata, buffers, disposeOnDone);\n          });\n        };\n        var comm = {\n          send: sendClosure\n        };\n      }\n      window.PyViz.comms[comm_id] = comm;\n      return comm;\n    }\n    window.PyViz.comm_manager = new JupyterCommManager();\n    \n\n\nvar JS_MIME_TYPE = 'application/javascript';\nvar HTML_MIME_TYPE = 'text/html';\nvar EXEC_MIME_TYPE = 'application/vnd.holoviews_exec.v0+json';\nvar CLASS_NAME = 'output';\n\n/**\n * Render data to the DOM node\n */\nfunction render(props, node) {\n  var div = document.createElement(\"div\");\n  var script = document.createElement(\"script\");\n  node.appendChild(div);\n  node.appendChild(script);\n}\n\n/**\n * Handle when a new output is added\n */\nfunction handle_add_output(event, handle) {\n  var output_area = handle.output_area;\n  var output = handle.output;\n  if ((output.data == undefined) || (!output.data.hasOwnProperty(EXEC_MIME_TYPE))) {\n    return\n  }\n  var id = output.metadata[EXEC_MIME_TYPE][\"id\"];\n  var toinsert = output_area.element.find(\".\" + CLASS_NAME.split(' ')[0]);\n  if (id !== undefined) {\n    var nchildren = toinsert.length;\n    var html_node = toinsert[nchildren-1].children[0];\n    html_node.innerHTML = output.data[HTML_MIME_TYPE];\n    var scripts = [];\n    var nodelist = html_node.querySelectorAll(\"script\");\n    for (var i in nodelist) {\n      if (nodelist.hasOwnProperty(i)) {\n        scripts.push(nodelist[i])\n      }\n    }\n\n    scripts.forEach( function (oldScript) {\n      var newScript = document.createElement(\"script\");\n      var attrs = [];\n      var nodemap = oldScript.attributes;\n      for (var j in nodemap) {\n        if (nodemap.hasOwnProperty(j)) {\n          attrs.push(nodemap[j])\n        }\n      }\n      attrs.forEach(function(attr) { newScript.setAttribute(attr.name, attr.value) });\n      newScript.appendChild(document.createTextNode(oldScript.innerHTML));\n      oldScript.parentNode.replaceChild(newScript, oldScript);\n    });\n    if (JS_MIME_TYPE in output.data) {\n      toinsert[nchildren-1].children[1].textContent = output.data[JS_MIME_TYPE];\n    }\n    output_area._hv_plot_id = id;\n    if ((window.Bokeh !== undefined) && (id in Bokeh.index)) {\n      window.PyViz.plot_index[id] = Bokeh.index[id];\n    } else {\n      window.PyViz.plot_index[id] = null;\n    }\n  } else if (output.metadata[EXEC_MIME_TYPE][\"server_id\"] !== undefined) {\n    var bk_div = document.createElement(\"div\");\n    bk_div.innerHTML = output.data[HTML_MIME_TYPE];\n    var script_attrs = bk_div.children[0].attributes;\n    for (var i = 0; i < script_attrs.length; i++) {\n      toinsert[toinsert.length - 1].childNodes[1].setAttribute(script_attrs[i].name, script_attrs[i].value);\n    }\n    // store reference to server id on output_area\n    output_area._bokeh_server_id = output.metadata[EXEC_MIME_TYPE][\"server_id\"];\n  }\n}\n\n/**\n * Handle when an output is cleared or removed\n */\nfunction handle_clear_output(event, handle) {\n  var id = handle.cell.output_area._hv_plot_id;\n  var server_id = handle.cell.output_area._bokeh_server_id;\n  if (((id === undefined) || !(id in PyViz.plot_index)) && (server_id !== undefined)) { return; }\n  var comm = window.PyViz.comm_manager.get_client_comm(\"hv-extension-comm\", \"hv-extension-comm\", function () {});\n  if (server_id !== null) {\n    comm.send({event_type: 'server_delete', 'id': server_id});\n    return;\n  } else if (comm !== null) {\n    comm.send({event_type: 'delete', 'id': id});\n  }\n  delete PyViz.plot_index[id];\n  if ((window.Bokeh !== undefined) & (id in window.Bokeh.index)) {\n    var doc = window.Bokeh.index[id].model.document\n    doc.clear();\n    const i = window.Bokeh.documents.indexOf(doc);\n    if (i > -1) {\n      window.Bokeh.documents.splice(i, 1);\n    }\n  }\n}\n\n/**\n * Handle kernel restart event\n */\nfunction handle_kernel_cleanup(event, handle) {\n  delete PyViz.comms[\"hv-extension-comm\"];\n  window.PyViz.plot_index = {}\n}\n\n/**\n * Handle update_display_data messages\n */\nfunction handle_update_output(event, handle) {\n  handle_clear_output(event, {cell: {output_area: handle.output_area}})\n  handle_add_output(event, handle)\n}\n\nfunction register_renderer(events, OutputArea) {\n  function append_mime(data, metadata, element) {\n    // create a DOM node to render to\n    var toinsert = this.create_output_subarea(\n    metadata,\n    CLASS_NAME,\n    EXEC_MIME_TYPE\n    );\n    this.keyboard_manager.register_events(toinsert);\n    // Render to node\n    var props = {data: data, metadata: metadata[EXEC_MIME_TYPE]};\n    render(props, toinsert[0]);\n    element.append(toinsert);\n    return toinsert\n  }\n\n  events.on('output_added.OutputArea', handle_add_output);\n  events.on('output_updated.OutputArea', handle_update_output);\n  events.on('clear_output.CodeCell', handle_clear_output);\n  events.on('delete.Cell', handle_clear_output);\n  events.on('kernel_ready.Kernel', handle_kernel_cleanup);\n\n  OutputArea.prototype.register_mime_type(EXEC_MIME_TYPE, append_mime, {\n    safe: true,\n    index: 0\n  });\n}\n\nif (window.Jupyter !== undefined) {\n  try {\n    var events = require('base/js/events');\n    var OutputArea = require('notebook/js/outputarea').OutputArea;\n    if (OutputArea.prototype.mime_types().indexOf(EXEC_MIME_TYPE) == -1) {\n      register_renderer(events, OutputArea);\n    }\n  } catch(err) {\n  }\n}\n",
      "application/vnd.holoviews_load.v0+json": ""
     },
     "metadata": {},
     "output_type": "display_data"
    },
    {
     "data": {
      "text/html": [
       "<style>.bk-root, .bk-root .bk:before, .bk-root .bk:after {\n",
       "  font-family: var(--jp-ui-font-size1);\n",
       "  font-size: var(--jp-ui-font-size1);\n",
       "  color: var(--jp-ui-font-color1);\n",
       "}\n",
       "</style>"
      ]
     },
     "metadata": {},
     "output_type": "display_data"
    }
   ],
   "source": [
    "import bokeh.plotting\n",
    "from bokeh.palettes import d3\n",
    "import panel as pn\n",
    "import param\n",
    "\n",
    "import pyvista as pv\n",
    "\n",
    "pn.extension(\"vtk\")\n",
    "pv.set_plot_theme(\"document\")\n",
    "\n",
    "import pandas as pd\n",
    "\n",
    "import numpy as np"
   ]
  },
  {
   "cell_type": "code",
   "execution_count": null,
   "metadata": {},
   "outputs": [],
   "source": [
    "\n",
    "dfs = pd.read_pickle(r\"C:\\Users\\jdue\\Desktop\\dashboard\\mnieeg\\inverse_summary.pickle\")\n",
    "dfd = pd.read_pickle(r\"C:\\Users\\jdue\\Desktop\\dashboard\\mnieeg\\inverse_density.pickle\")\n",
    "\n",
    "surface = pv.read(r\"C:\\Users\\jdue\\Desktop\\dashboard\\fsaverage5.vtm\")\n"
   ]
  },
  {
   "cell_type": "code",
   "execution_count": null,
   "metadata": {},
   "outputs": [],
   "source": [
    "keys = [\"Orientation\", \"Statistic\", \"Inverse\", \"Resolution Function\", \"Resolution Metric\"]\n",
    "options = {k:dfs.columns.unique(k).to_list() for k in keys}"
   ]
  },
  {
   "cell_type": "code",
   "execution_count": null,
   "metadata": {},
   "outputs": [],
   "source": [
    "class Dashboard(param.Parameterized):\n",
    "\n",
    "    # grid = 4x5\n",
    "\n",
    "    def __init__(self, surface, dfs, dfd, **params):\n",
    "        super().__init__(**params)\n",
    "\n",
    "        self.surface = surface\n",
    "        self.hemispheres = self.surface.keys()\n",
    "        self.df_summary = dfs\n",
    "        self.df_density = dfd\n",
    "        self.forwards = self.df_density.columns.unique(\"Forward\")\n",
    "        self.snrs = self.df_density.columns.unique(\"SNR\")\n",
    "        self.n_forwards = len(self.forwards)\n",
    "        self.n_snrs = len(self.snrs)\n",
    "\n",
    "\n",
    "        self.width = 1200\n",
    "        self.height = 800\n",
    "        self.surface_plot_shape = (self.n_snrs, self.n_forwards)\n",
    "        self.surface_plot_size = tuple(400 * i for i in self.surface_plot_shape[::-1])\n",
    "\n",
    "        self.gspec = pn.GridSpec(\n",
    "            mode=\"override\",\n",
    "            sizing_mode=\"stretch_both\",\n",
    "            max_width=self.width,\n",
    "            max_height=self.height,\n",
    "        )\n",
    "        # self.gspec.servable()\n",
    "        self.gspec[:,0] = pn.Column(self.param)\n",
    "\n",
    "    # Inputs ...\n",
    "    orientation = param.ObjectSelector(\n",
    "        default=options['Orientation'][0], objects=options['Orientation']\n",
    "    )\n",
    "    statistic = param.ObjectSelector(\n",
    "        default=options['Statistic'][0], objects=options['Statistic']\n",
    "    )\n",
    "    inverse = param.ObjectSelector(\n",
    "        label=\"Inverse Method\", default=options['Inverse'][0], objects=options['Inverse']\n",
    "    )\n",
    "    function = param.ObjectSelector(\n",
    "        default=options[\"Resolution Function\"][0], objects=options[\"Resolution Function\"]\n",
    "    )\n",
    "    metric = param.ObjectSelector(default=options['Resolution Metric'][0], objects=options['Resolution Metric'])\n",
    "\n",
    "    # gspec = pn.GridSpec(sizing_mode=\"stretch_both\", max_height=800)\n",
    "\n",
    "    @param.depends(\"orientation\", \"statistic\", \"inverse\", \"function\", \"metric\")\n",
    "    def make_surface_plots(\n",
    "        self,\n",
    "        cbar_pad=0.1,\n",
    "        cbar_size=\"2.5%\",\n",
    "        cbar_rows=None,\n",
    "    ):\n",
    "        \"\"\"\n",
    "\n",
    "        px : pixels per subplot\n",
    "\n",
    "        \"\"\"\n",
    "        cmap = \"RdBu_r\"\n",
    "        clim = [0, 6]\n",
    "\n",
    "        zoom_factor = np.sqrt(2)\n",
    "\n",
    "        plotter_kwargs = dict(\n",
    "            cmap = cmap,\n",
    "            clim = clim,\n",
    "            scalar_bar_args = dict(\n",
    "                vertical=False, n_labels=3, label_font_size=10\n",
    "            )\n",
    "        )\n",
    "\n",
    "        p = pv.Plotter(shape=self.surface_plot_shape, window_size=self.surface_plot_size, notebook=False, border=False)\n",
    "        for i, snr in enumerate(self.snrs):\n",
    "            for j, fwd in enumerate(self.forwards):\n",
    "                p.subplot(i, j)\n",
    "                scalars = self.df_summary[self.statistic, self.orientation, fwd, self.inverse, snr, self.function, self.metric]\n",
    "                for h in self.hemispheres:\n",
    "                    p.add_mesh(self.surface[h].copy(), scalars=scalars[h])\n",
    "                p.camera.zoom(zoom_factor)\n",
    "\n",
    "                if j == 0:\n",
    "                    p.add_text(str(snr), \"left_edge\", font_size=12)\n",
    "                if i == 0:\n",
    "                    p.add_text(fwd, \"upper_edge\", font_size=12)\n",
    "\n",
    "        p.link_views()\n",
    "        # return p\n",
    "\n",
    "        self.gspec[:self.n_snrs, 1:self.n_forwards] = pn.panel(p.ren_win)\n",
    "        return self.gspec\n",
    "\n",
    "\n",
    "    @param.depends(\"orientation\", \"statistic\", \"inverse\", \"function\", \"metric\")\n",
    "    def make_density_plots(self):\n",
    "        # fig1, axes = plt.subplots(1, 4, sharey=True, constrained_layout=True)\n",
    "        # for ax in axes:\n",
    "        #     ax.plot(np.random.rand(10))\n",
    "\n",
    "        # fig2, axes = plt.subplots(3, 1, sharex=True, constrained_layout=True)\n",
    "        # for ax in axes:\n",
    "        #     ax.plot(np.random.rand(10))\n",
    "        # self.gspec[3, :4] = pn.pane.Matplotlib(fig1)\n",
    "        # self.gspec[:3, 4] = pn.pane.Matplotlib(fig2)\n",
    "\n",
    "        # sel = pd.IndexSlice[self.orientation, :, self.inverse, :, self.function, self.metric]\n",
    "        # df_sel = self.df_density.loc[:, sel]\n",
    "    \n",
    "        # Forward densities\n",
    "        ymax = 0\n",
    "        figs = []\n",
    "        for i,fwd in enumerate(self.forwards):\n",
    "            fig = bokeh.plotting.figure(toolbar_location=None, width=200, height=200)\n",
    "\n",
    "            if i == self.n_forwards-1:\n",
    "                for j,snr in enumerate(self.snrs):\n",
    "                    data = self.df_density[self.orientation, fwd, self.inverse, snr, self.function, self.metric]\n",
    "                    ymax = max(ymax, data.max())\n",
    "                    fig.line(self.df_density.index, data, color=d3[\"Category10\"][self.n_snrs][j], legend_label=str(snr))\n",
    "                fig.legend.label_text_font_size = \"10pt\"\n",
    "            else:\n",
    "                for j,snr in enumerate(self.snrs):\n",
    "                    data = self.df_density[self.orientation, fwd, self.inverse, snr, self.function, self.metric]\n",
    "                    ymax = max(ymax, data.max())\n",
    "                    fig.line(self.df_density.index, data, color=d3[\"Category10\"][self.n_snrs][j])\n",
    "            if i > 0:\n",
    "                fig.yaxis.major_label_text_font_size = '0pt'\n",
    "            figs.append(fig)\n",
    "        # figs[0].yaxis.axis_label = \"Probability Density\"\n",
    "        for fig in figs:\n",
    "            fig.y_range.end = ymax\n",
    "\n",
    "        self.gspec[self.n_snrs, 1:self.n_forwards+1] = pn.Row(*figs)\n",
    "\n",
    "        # SNR densities\n",
    "        figs = []\n",
    "        for i,snr in enumerate(self.snrs):\n",
    "            fig = bokeh.plotting.figure(toolbar_location=None, width=200, height=200)\n",
    "            # d = self.df_density.loc[:, pd.IndexSlice[self.orientation, :, self.inverse, snr, self.function, self.metric]].to_numpy().T.tolist()\n",
    "            # fig.multi_line([self.df_density.index for i in range(self.n_forwards)], d, line_color=d3[\"Category10\"][self.n_forwards])\n",
    "            if i == self.n_snrs-1:\n",
    "                for j,fwd in enumerate(self.forwards):\n",
    "                    fig.line(self.df_density.index, self.df_density[self.orientation, fwd, self.inverse, snr, self.function, self.metric], color=d3[\"Category10\"][self.n_forwards][j], legend_label=fwd)\n",
    "                fig.legend.label_text_font_size = \"10pt\"\n",
    "            else:\n",
    "                for j,fwd in enumerate(self.forwards):\n",
    "                    fig.line(self.df_density.index, self.df_density[self.orientation, fwd, self.inverse, snr, self.function, self.metric], color=d3[\"Category10\"][self.n_forwards][j])\n",
    "            if i < self.n_snrs-1:\n",
    "                fig.xaxis.major_label_text_font_size = '0pt'\n",
    "            figs.append(fig)\n",
    "        # figs[-1].xaxis.axis_label = \"cm\"\n",
    "\n",
    "        self.gspec[:self.n_snrs, self.n_forwards+1] = pn.Column(*figs)\n",
    "        return self.gspec\n",
    "\n",
    "    def update_plots(self):\n",
    "        self.make_surface_plots()\n",
    "        self.make_density_plots()\n",
    "        return self.gspec\n"
   ]
  },
  {
   "cell_type": "code",
   "execution_count": null,
   "metadata": {},
   "outputs": [],
   "source": [
    "# viewer = PanelViewer()\n",
    "# pn.Row(viewer.param, viewer.make_density_plots)\n",
    "\n",
    "dashboard = Dashboard(surface, dfs, dfd)\n",
    "pn.Row(dashboard.update_plots)\n",
    "dashboard.gspec\n",
    "\n",
    "# pn.Column(viewer.update_plots)"
   ]
  },
  {
   "cell_type": "code",
   "execution_count": null,
   "metadata": {},
   "outputs": [],
   "source": [
    "fig = bokeh.plotting.figure(toolbar_location=None)\n",
    "fig.line(range(10), range(10))\n",
    "bokeh.plotting.show(fig)"
   ]
  },
  {
   "cell_type": "code",
   "execution_count": null,
   "metadata": {},
   "outputs": [],
   "source": [
    "import numpy as np"
   ]
  },
  {
   "cell_type": "code",
   "execution_count": null,
   "metadata": {},
   "outputs": [],
   "source": [
    "gspec = pn.GridSpec(\n",
    "    mode=\"override\", sizing_mode=\"stretch_both\", max_width=1000, max_height=800\n",
    ")\n",
    "figs = []\n",
    "for i in range(4):\n",
    "    fig = bokeh.plotting.figure(width=200, height=200)\n",
    "    fig.line(range(10), np.random.rand(10))\n",
    "    figs.append(fig)\n",
    "figs[-1].xaxis.axis_label = \"My Label\"\n",
    "gspec[3, :4] = pn.Row(*figs)\n",
    "gspec\n",
    "\n"
   ]
  },
  {
   "cell_type": "code",
   "execution_count": null,
   "metadata": {},
   "outputs": [],
   "source": [
    "fig1, axes = plt.subplots(1, 4, sharey=True, constrained_layout=True, figsize=(8, 2))\n",
    "for ax in axes:\n",
    "    ax.plot(np.random.rand(10))\n",
    "\n",
    "fig2, axes = plt.subplots(3, 1, sharex=True, constrained_layout=True, figsize=(2, 6))\n",
    "for ax in axes:\n",
    "    ax.plot(np.random.rand(10))\n",
    "\n",
    "\n",
    "gspec[3, :4] = pn.pane.Matplotlib(fig1)\n",
    "gspec[:3, 4] = pn.pane.Matplotlib(fig2)\n",
    "gspec"
   ]
  },
  {
   "cell_type": "code",
   "execution_count": null,
   "metadata": {},
   "outputs": [],
   "source": [
    "gspec = pn.GridSpec(\n",
    "    mode=\"override\", sizing_mode=\"stretch_both\", max_width=1000, max_height=800\n",
    ")\n",
    "p = inv_plot_stat_on_surface_interactive(brain, df, \"MNE\", \"psf\", \"peak_err\", \"mean\")\n",
    "gspec[:3, :4] = pn.panel(p.ren_win)\n",
    "gspec\n"
   ]
  },
  {
   "cell_type": "code",
   "execution_count": null,
   "metadata": {},
   "outputs": [],
   "source": [
    "fig1, axes = plt.subplots()\n",
    "axes.plot(np.random.rand(10))\n",
    "pn.pane.Matplotlib(fig1)\n"
   ]
  }
 ],
 "metadata": {
  "kernelspec": {
   "display_name": "Python 3.9.12 ('simnibs')",
   "language": "python",
   "name": "python3"
  },
  "language_info": {
   "codemirror_mode": {
    "name": "ipython",
    "version": 3
   },
   "file_extension": ".py",
   "mimetype": "text/x-python",
   "name": "python",
   "nbconvert_exporter": "python",
   "pygments_lexer": "ipython3",
   "version": "3.9.12"
  },
  "orig_nbformat": 4,
  "vscode": {
   "interpreter": {
    "hash": "8333e2ef50f38f435d98d8340007c0d486a5ee20ab88c4ed0ae843fbcc0872de"
   }
  }
 },
 "nbformat": 4,
 "nbformat_minor": 2
}
